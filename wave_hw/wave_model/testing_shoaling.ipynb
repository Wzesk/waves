{
 "cells": [
  {
   "cell_type": "code",
   "execution_count": 1,
   "metadata": {},
   "outputs": [],
   "source": [
    "import numpy as np\n",
    "import wave_model as wm\n",
    "import matplotlib.pyplot as plt"
   ]
  },
  {
   "cell_type": "code",
   "execution_count": 2,
   "metadata": {},
   "outputs": [
    {
     "name": "stdout",
     "output_type": "stream",
     "text": [
      "initial wave characteristics\n",
      "length:  621.4217907668674\n",
      "phase speed:  31.07108953832611\n",
      "group speed:  15.972681121380683\n",
      "shoal properties\n",
      "shoal number:  0.01205029724079466\n",
      "phase speed:  26.070665235993964\n",
      "group speed:  18.724143509288304\n",
      "1.1722605220124611\n",
      "sin of incedent angle:  0.8660254037844386 group speed ratio:  1.1722605220124611\n"
     ]
    },
    {
     "data": {
      "text/plain": [
       "0.6951391471947309"
      ]
     },
     "execution_count": 2,
     "metadata": {},
     "output_type": "execute_result"
    }
   ],
   "source": [
    "my_wave = wm.wave_solver(20,300,0.5)\n",
    "print(\"initial wave characteristics\")\n",
    "print(\"length: \",my_wave.initial_wavelength)\n",
    "print(\"phase speed: \",my_wave.speed(my_wave.initial_wavenumber,300))\n",
    "print(\"group speed: \",my_wave.group_speed(my_wave.initial_wavenumber,300))\n",
    "\n",
    "shoal_dr = my_wave.dispersion(100)\n",
    "shoal_wave_number = shoal_dr * my_wave.wavefrequency**2 / my_wave.grav\n",
    "print(\"shoal properties\")\n",
    "print(\"shoal number: \",shoal_wave_number)\n",
    "print(\"phase speed: \",my_wave.speed(shoal_wave_number,100))\n",
    "print(\"group speed: \",my_wave.group_speed(shoal_wave_number,100))\n",
    "\n",
    "shoal_coefficient,cgo,cg = my_wave.shoaling_coefficient(100)\n",
    "#print(shoal_coefficient,cgo,cg)\n",
    "\n",
    "group_speed_ratio = cg/cgo\n",
    "print(group_speed_ratio)\n",
    "ref_coefficient = my_wave.refraction_coefficient(60,group_speed_ratio)#group_speed_ratio)\n",
    "ref_coefficient"
   ]
  },
  {
   "cell_type": "code",
   "execution_count": null,
   "metadata": {},
   "outputs": [],
   "source": []
  }
 ],
 "metadata": {
  "interpreter": {
   "hash": "b3ba2566441a7c06988d0923437866b63cedc61552a5af99d1f4fb67d367b25f"
  },
  "kernelspec": {
   "display_name": "Python 3.8.8 64-bit ('base': conda)",
   "name": "python3"
  },
  "language_info": {
   "codemirror_mode": {
    "name": "ipython",
    "version": 3
   },
   "file_extension": ".py",
   "mimetype": "text/x-python",
   "name": "python",
   "nbconvert_exporter": "python",
   "pygments_lexer": "ipython3",
   "version": "3.8.8"
  }
 },
 "nbformat": 4,
 "nbformat_minor": 5
}

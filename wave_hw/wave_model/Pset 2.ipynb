{
 "cells": [
  {
   "cell_type": "markdown",
   "id": "90b7ed7f",
   "metadata": {},
   "source": [
    "1.\tWrite a script that solves the dispersion relationship for wavenumber (k = 2pi/L) given the wave period (T = 2pi/omega) and water depth (h).   This will require an iterative solution."
   ]
  },
  {
   "cell_type": "code",
   "execution_count": null,
   "id": "dff73fc5",
   "metadata": {},
   "outputs": [],
   "source": [
    "#the wave solver creates a wave object that determines the critical properties of the wave given period, depth and amplitude\n",
    "#see wave_model.py for the class\n",
    "#see testing wave model pdf for tests of this class\n",
    "\n",
    "class wave_solver:\n",
    "    grav = 9.80665  #m^2/s\n",
    "    waveperiod = 0\n",
    "    wavefrequency = 0\n",
    "\n",
    "    #changing values as wave moved initialized for deep water\n",
    "    initial_amplitude = 0\n",
    "    initial_depth = 0\n",
    "    initial_wavelength = 0\n",
    "    initial_wavenumber = 0\n",
    "    \n",
    "    \n",
    "    def __init__(self,measuredperiod,init_depth, measuredamplitude):\n",
    "        \"\"\"\n",
    "        This initializes the wave model object.  It first defines simple immutable properties of the wave\n",
    "        Next it defines the initial deep water properties using the dispersion relationship\n",
    "        \"\"\"\n",
    "        #set simple properties\n",
    "        self.initial_amplitude = measuredamplitude\n",
    "        self.initial_depth = init_depth\n",
    "        self.waveperiod = measuredperiod\n",
    "        self.wavefrequency = (2 * np.pi ) / measuredperiod\n",
    "        \n",
    "        #calculation other initial properties based on dispersion relationship\n",
    "        deep_dr = self.dispersion(self.initial_depth)\n",
    "        self.initial_wavenumber = deep_dr * self.wavefrequency**2 / self.grav\n",
    "        self.initial_wavelength = (2*np.pi) / self.initial_wavenumber\n",
    "    \n",
    "    \n",
    "    \n",
    "    def dispersion(self,eff_depth):\n",
    "        \"\"\"\n",
    "        function to calculate dispersion relationship.  \n",
    "        This calculates at an effective depth so it can be used to generate the initial deep water wave\n",
    "        and to calculate  the relationship at transitional and shallow depths\n",
    "        \"\"\"\n",
    "        depthratio = self.wavefrequency**2 * eff_depth / self.grav\n",
    "        assert depthratio > 0\n",
    "            \n",
    "        # Guess at dispersion relationship (from https://www.sciencedirect.com/science/article/pii/037838399090032R):\n",
    "        dr = np.tanh(depthratio ** 0.75) ** (-2.0 / 3.0)\n",
    "        \n",
    "        #converge iteratively (strategy based on https://github.com/ChrisBarker-NOAA/wave_utils)\n",
    "        iter = 0\n",
    "        f = dr * np.tanh(dr * depthratio) - 1\n",
    "        while abs(f) > 1e-10:\n",
    "            qp = dr * depthratio\n",
    "            fp = qp / (np.cosh(qp) ** 2) + np.tanh(qp)\n",
    "            dr = dr - f / fp\n",
    "            f = dr * np.tanh(dr * depthratio) - 1\n",
    "            iter += 1\n",
    "            if iter > 200:\n",
    "                raise RuntimeError(\"could not converge\")\n",
    "        #set dispersion relationship\n",
    "        return dr                    "
   ]
  },
  {
   "cell_type": "markdown",
   "id": "d208f4dc",
   "metadata": {},
   "source": [
    "2.\tWrite a script that calculates the wave-induced horizontal velocity, vertical velocity and pressure, given the wave amplitude, wave period, water depth and height above the bed.  Note, you will need the wavenumber calculation from (1) for this calculation."
   ]
  },
  {
   "cell_type": "code",
   "execution_count": null,
   "id": "0a20b374",
   "metadata": {},
   "outputs": [],
   "source": [
    "#these three functions are part of the wave_model class so rely on the properties of the wave model object defined above.\n",
    "#each function requires a sample height and then uses the other properties of the wave to solve for the velocity or pressure\n",
    "#see wave_model.py for the class\n",
    "##see testing wave model pdf for test results\n",
    "\n",
    "    def horizontal_velocity(self,sampleheight):\n",
    "        #horizontal velocity at a given depth -- data is averaged so leaving out final cos term\n",
    "        u = self.initial_amplitude * self.wavefrequency * (np.cosh(self.initial_wavenumber * (self.initial_depth + sampleheight)) / np.sinh(self.initial_wavenumber * self.initial_depth))\n",
    "        return u\n",
    "    \n",
    "    \n",
    "    def vertical_velocity(self,sampleheight):\n",
    "        #vertical velocity at a given depth -- data is averaged so leaving out final cos term\n",
    "        w = self.initial_amplitude * self.wavefrequency * (np.sinh(self.initial_wavenumber * (self.initial_depth + sampleheight)) / np.sinh(self.initial_wavenumber * self.initial_depth))\n",
    "        return w\n",
    "    \n",
    "    def wave_pressure(self,sampleheight):\n",
    "        #pressure at a given depth -- data is averaged so leaving out final cos term\n",
    "        pr = (self.grav * self.initial_depth) + (self.initial_amplitude * self.grav * (np.cosh(self.initial_wavenumber * (self.initial_depth + sampleheight)) / np.cosh(self.initial_wavenumber * self.initial_depth)))\n",
    "        return pr\n"
   ]
  },
  {
   "cell_type": "markdown",
   "id": "d7ed38e1",
   "metadata": {},
   "source": [
    "3.\tWhy does the wave-induced pressure decrease with distance from the surface?  Explain this in terms of the vertical momentum balance.  What are the implications for measuring wave properties using bottom-mounted sensors."
   ]
  },
  {
   "cell_type": "markdown",
   "id": "38a86a7e",
   "metadata": {},
   "source": [
    "In class we discussed that the variation in true depth due to alternating wave crests and troughs is offset or balanced by the aternating vertical components of the circular motion of the wave.  The net result is that the pressure in deep water effectively becomes the hydrostatic pressure.  This means that a sensor measuring pressure on the bottom would not detect wave induced pressure changes in deep water."
   ]
  },
  {
   "cell_type": "markdown",
   "id": "ce533222",
   "metadata": {},
   "source": [
    "4.\tDownload the wave data from the Nantucket NDBC buoy (station 44008) for the year 2016.  Apply the script from (1) to this data and plot the wavelength and wave speed.  Apply the script from (2) to this data and plot the wave-induced horizontal and vertical velocities and wave-induced pressure for a location 1 meter above the seafloor.  \n",
    "a)\tHow well do the data agree with the deepwater limit?\n",
    "b)\tAre these waves consistent with linear assumptions used in linear wave-theory?\n"
   ]
  },
  {
   "cell_type": "markdown",
   "id": "d7fbd528",
   "metadata": {},
   "source": [
    "# Please see the buoy data processing pdf and associated data files.\n",
    "\n",
    "a)  The vertical and horizontal velocities diminish to zero as the measurement location approaches the bottom which supports the deep water limit.  The reduction in velocities matches my expectation from our discussion in class that the elliptical motion would collapse/flatten to a back and forth motion as the measurement location neared the bottom.\n",
    "\n",
    "b) I believe these waves are consistent with linear assumptions used in linear wave-theory.  "
   ]
  }
 ],
 "metadata": {
  "kernelspec": {
   "display_name": "Python 3 (ipykernel)",
   "language": "python",
   "name": "python3"
  },
  "language_info": {
   "codemirror_mode": {
    "name": "ipython",
    "version": 3
   },
   "file_extension": ".py",
   "mimetype": "text/x-python",
   "name": "python",
   "nbconvert_exporter": "python",
   "pygments_lexer": "ipython3",
   "version": "3.8.11"
  }
 },
 "nbformat": 4,
 "nbformat_minor": 5
}

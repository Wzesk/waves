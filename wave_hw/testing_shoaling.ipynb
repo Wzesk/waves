{
 "cells": [
  {
   "cell_type": "code",
   "execution_count": 1,
   "id": "3ee20afb",
   "metadata": {},
   "outputs": [],
   "source": [
    "import numpy as np\n",
    "import wave_model as wm\n",
    "import matplotlib.pyplot as plt"
   ]
  },
  {
   "cell_type": "code",
   "execution_count": 4,
   "id": "9902cdfc",
   "metadata": {},
   "outputs": [
    {
     "name": "stdout",
     "output_type": "stream",
     "text": [
      "0.9236085193924879\n"
     ]
    },
    {
     "data": {
      "text/plain": [
       "1.2151942954225297"
      ]
     },
     "execution_count": 4,
     "metadata": {},
     "output_type": "execute_result"
    }
   ],
   "source": [
    "my_wave = wm.wave_solver(20,300,0.5)\n",
    "shoal_coefficient = my_wave.shoaling_coefficient(100)\n",
    "print(1/shoal_coefficient)\n",
    "ref_coefficient = my_wave.refraction_coefficient(60.960402,shoal_coefficient)\n",
    "ref_coefficient"
   ]
  },
  {
   "cell_type": "code",
   "execution_count": null,
   "id": "8a95c44d",
   "metadata": {},
   "outputs": [],
   "source": []
  }
 ],
 "metadata": {
  "kernelspec": {
   "display_name": "Python 3 (ipykernel)",
   "language": "python",
   "name": "python3"
  },
  "language_info": {
   "codemirror_mode": {
    "name": "ipython",
    "version": 3
   },
   "file_extension": ".py",
   "mimetype": "text/x-python",
   "name": "python",
   "nbconvert_exporter": "python",
   "pygments_lexer": "ipython3",
   "version": "3.8.11"
  }
 },
 "nbformat": 4,
 "nbformat_minor": 5
}
